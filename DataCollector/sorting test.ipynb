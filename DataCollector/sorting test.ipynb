{
 "cells": [
  {
   "cell_type": "code",
   "execution_count": 7,
   "id": "847313ad-9d22-469f-8b98-9ac84cad25e3",
   "metadata": {
    "tags": []
   },
   "outputs": [],
   "source": [
    "import pandas as pd\n",
    "import numpy as np\n",
    "import csv\n",
    "import datetime as dt\n",
    "from pmaw import PushshiftAPI\n",
    "import matplotlib.pyplot as plt"
   ]
  },
  {
   "cell_type": "code",
   "execution_count": 2,
   "id": "c445d1d5-caf1-4334-899b-a43a19a3c7e4",
   "metadata": {},
   "outputs": [],
   "source": [
    "api = PushshiftAPI()\n"
   ]
  },
  {
   "cell_type": "code",
   "execution_count": 18,
   "id": "7483a5cd-aa97-4eff-b206-71ac01e72c2e",
   "metadata": {},
   "outputs": [],
   "source": [
    "before = int(dt.datetime(2022,12,31,0,0).timestamp())\n",
    "after = int(dt.datetime(2022,9,1,0,0).timestamp())"
   ]
  },
  {
   "cell_type": "code",
   "execution_count": 19,
   "id": "7ccb911b-5634-46e3-b556-756241317cd3",
   "metadata": {},
   "outputs": [
    {
     "name": "stdout",
     "output_type": "stream",
     "text": [
      "Retrieved 200 comments from Pushshift\n"
     ]
    }
   ],
   "source": [
    "subreddit=\"UCSC\"\n",
    "limit=200\n",
    "comments = api.search_comments(subreddit=subreddit, limit=limit, before=before, after=after)\n",
    "print(f'Retrieved {len(comments)} comments from Pushshift')\n"
   ]
  },
  {
   "cell_type": "code",
   "execution_count": 20,
   "id": "70b1586e-5fa8-4854-8f00-4bef886fc6c0",
   "metadata": {},
   "outputs": [
    {
     "data": {
      "text/html": [
       "<div>\n",
       "<style scoped>\n",
       "    .dataframe tbody tr th:only-of-type {\n",
       "        vertical-align: middle;\n",
       "    }\n",
       "\n",
       "    .dataframe tbody tr th {\n",
       "        vertical-align: top;\n",
       "    }\n",
       "\n",
       "    .dataframe thead th {\n",
       "        text-align: right;\n",
       "    }\n",
       "</style>\n",
       "<table border=\"1\" class=\"dataframe\">\n",
       "  <thead>\n",
       "    <tr style=\"text-align: right;\">\n",
       "      <th></th>\n",
       "      <th>subreddit_id</th>\n",
       "      <th>author_is_blocked</th>\n",
       "      <th>comment_type</th>\n",
       "      <th>edited</th>\n",
       "      <th>author_flair_type</th>\n",
       "      <th>total_awards_received</th>\n",
       "      <th>subreddit</th>\n",
       "      <th>author_flair_template_id</th>\n",
       "      <th>id</th>\n",
       "      <th>gilded</th>\n",
       "      <th>...</th>\n",
       "      <th>subreddit_name_prefixed</th>\n",
       "      <th>controversiality</th>\n",
       "      <th>author_flair_background_color</th>\n",
       "      <th>collapsed_because_crowd_control</th>\n",
       "      <th>distinguished</th>\n",
       "      <th>retrieved_utc</th>\n",
       "      <th>updated_utc</th>\n",
       "      <th>body_sha1</th>\n",
       "      <th>utc_datetime_str</th>\n",
       "      <th>nest_level</th>\n",
       "    </tr>\n",
       "  </thead>\n",
       "  <tbody>\n",
       "    <tr>\n",
       "      <th>0</th>\n",
       "      <td>t5_2r3oq</td>\n",
       "      <td>False</td>\n",
       "      <td>None</td>\n",
       "      <td>False</td>\n",
       "      <td>text</td>\n",
       "      <td>0</td>\n",
       "      <td>UCSC</td>\n",
       "      <td>None</td>\n",
       "      <td>j2ctolk</td>\n",
       "      <td>0</td>\n",
       "      <td>...</td>\n",
       "      <td>r/UCSC</td>\n",
       "      <td>0</td>\n",
       "      <td>None</td>\n",
       "      <td>None</td>\n",
       "      <td>None</td>\n",
       "      <td>1672473461</td>\n",
       "      <td>1672473462</td>\n",
       "      <td>91729ca7d852e9e96253ee09be7918341ab9eeca</td>\n",
       "      <td>2022-12-31 07:57:29</td>\n",
       "      <td>NaN</td>\n",
       "    </tr>\n",
       "    <tr>\n",
       "      <th>1</th>\n",
       "      <td>t5_2r3oq</td>\n",
       "      <td>False</td>\n",
       "      <td>None</td>\n",
       "      <td>False</td>\n",
       "      <td>text</td>\n",
       "      <td>0</td>\n",
       "      <td>UCSC</td>\n",
       "      <td>None</td>\n",
       "      <td>j2csz7t</td>\n",
       "      <td>0</td>\n",
       "      <td>...</td>\n",
       "      <td>r/UCSC</td>\n",
       "      <td>0</td>\n",
       "      <td>None</td>\n",
       "      <td>None</td>\n",
       "      <td>None</td>\n",
       "      <td>1672472924</td>\n",
       "      <td>1672472925</td>\n",
       "      <td>768f4baca5f65edb5c9dfa2704d5210503861603</td>\n",
       "      <td>2022-12-31 07:48:33</td>\n",
       "      <td>NaN</td>\n",
       "    </tr>\n",
       "    <tr>\n",
       "      <th>2</th>\n",
       "      <td>t5_2r3oq</td>\n",
       "      <td>False</td>\n",
       "      <td>None</td>\n",
       "      <td>False</td>\n",
       "      <td>text</td>\n",
       "      <td>0</td>\n",
       "      <td>UCSC</td>\n",
       "      <td>None</td>\n",
       "      <td>j2cp608</td>\n",
       "      <td>0</td>\n",
       "      <td>...</td>\n",
       "      <td>r/UCSC</td>\n",
       "      <td>0</td>\n",
       "      <td>None</td>\n",
       "      <td>None</td>\n",
       "      <td>None</td>\n",
       "      <td>1672470103</td>\n",
       "      <td>1672470104</td>\n",
       "      <td>4db33ae79a7a8da1a03abb73cd30cb0194a3031f</td>\n",
       "      <td>2022-12-31 07:01:27</td>\n",
       "      <td>1.0</td>\n",
       "    </tr>\n",
       "    <tr>\n",
       "      <th>3</th>\n",
       "      <td>t5_2r3oq</td>\n",
       "      <td>False</td>\n",
       "      <td>None</td>\n",
       "      <td>False</td>\n",
       "      <td>richtext</td>\n",
       "      <td>0</td>\n",
       "      <td>UCSC</td>\n",
       "      <td>4ff1ada6-2b4a-11e4-8b10-12313d09698f</td>\n",
       "      <td>j2cl9zg</td>\n",
       "      <td>0</td>\n",
       "      <td>...</td>\n",
       "      <td>r/UCSC</td>\n",
       "      <td>0</td>\n",
       "      <td>None</td>\n",
       "      <td>None</td>\n",
       "      <td>None</td>\n",
       "      <td>1672467453</td>\n",
       "      <td>1672467454</td>\n",
       "      <td>fffbdde2fb8e9a01f61c9f89c98095ebfab67734</td>\n",
       "      <td>2022-12-31 06:17:19</td>\n",
       "      <td>1.0</td>\n",
       "    </tr>\n",
       "    <tr>\n",
       "      <th>4</th>\n",
       "      <td>t5_2r3oq</td>\n",
       "      <td>False</td>\n",
       "      <td>None</td>\n",
       "      <td>False</td>\n",
       "      <td>text</td>\n",
       "      <td>0</td>\n",
       "      <td>UCSC</td>\n",
       "      <td>None</td>\n",
       "      <td>j2cjlx7</td>\n",
       "      <td>0</td>\n",
       "      <td>...</td>\n",
       "      <td>r/UCSC</td>\n",
       "      <td>0</td>\n",
       "      <td>None</td>\n",
       "      <td>None</td>\n",
       "      <td>None</td>\n",
       "      <td>1672466384</td>\n",
       "      <td>1672466385</td>\n",
       "      <td>15c68ec16091ae93e53a8e61630cbcb22cd94513</td>\n",
       "      <td>2022-12-31 05:59:31</td>\n",
       "      <td>1.0</td>\n",
       "    </tr>\n",
       "  </tbody>\n",
       "</table>\n",
       "<p>5 rows × 52 columns</p>\n",
       "</div>"
      ],
      "text/plain": [
       "  subreddit_id  author_is_blocked comment_type  edited author_flair_type  \\\n",
       "0     t5_2r3oq              False         None   False              text   \n",
       "1     t5_2r3oq              False         None   False              text   \n",
       "2     t5_2r3oq              False         None   False              text   \n",
       "3     t5_2r3oq              False         None   False          richtext   \n",
       "4     t5_2r3oq              False         None   False              text   \n",
       "\n",
       "   total_awards_received subreddit              author_flair_template_id  \\\n",
       "0                      0      UCSC                                  None   \n",
       "1                      0      UCSC                                  None   \n",
       "2                      0      UCSC                                  None   \n",
       "3                      0      UCSC  4ff1ada6-2b4a-11e4-8b10-12313d09698f   \n",
       "4                      0      UCSC                                  None   \n",
       "\n",
       "        id  gilded  ...  subreddit_name_prefixed controversiality  \\\n",
       "0  j2ctolk       0  ...                   r/UCSC                0   \n",
       "1  j2csz7t       0  ...                   r/UCSC                0   \n",
       "2  j2cp608       0  ...                   r/UCSC                0   \n",
       "3  j2cl9zg       0  ...                   r/UCSC                0   \n",
       "4  j2cjlx7       0  ...                   r/UCSC                0   \n",
       "\n",
       "   author_flair_background_color collapsed_because_crowd_control  \\\n",
       "0                           None                            None   \n",
       "1                           None                            None   \n",
       "2                           None                            None   \n",
       "3                           None                            None   \n",
       "4                           None                            None   \n",
       "\n",
       "   distinguished  retrieved_utc  updated_utc  \\\n",
       "0           None     1672473461   1672473462   \n",
       "1           None     1672472924   1672472925   \n",
       "2           None     1672470103   1672470104   \n",
       "3           None     1672467453   1672467454   \n",
       "4           None     1672466384   1672466385   \n",
       "\n",
       "                                  body_sha1     utc_datetime_str nest_level  \n",
       "0  91729ca7d852e9e96253ee09be7918341ab9eeca  2022-12-31 07:57:29        NaN  \n",
       "1  768f4baca5f65edb5c9dfa2704d5210503861603  2022-12-31 07:48:33        NaN  \n",
       "2  4db33ae79a7a8da1a03abb73cd30cb0194a3031f  2022-12-31 07:01:27        1.0  \n",
       "3  fffbdde2fb8e9a01f61c9f89c98095ebfab67734  2022-12-31 06:17:19        1.0  \n",
       "4  15c68ec16091ae93e53a8e61630cbcb22cd94513  2022-12-31 05:59:31        1.0  \n",
       "\n",
       "[5 rows x 52 columns]"
      ]
     },
     "execution_count": 20,
     "metadata": {},
     "output_type": "execute_result"
    }
   ],
   "source": [
    "comments_df = pd.DataFrame(comments)\n",
    "comments_df.head(5)"
   ]
  },
  {
   "cell_type": "code",
   "execution_count": 21,
   "id": "4d9427d8-19fa-458b-ba98-e6fdbad13cc0",
   "metadata": {},
   "outputs": [],
   "source": [
    "comments_df.to_csv('./UCSC_commecnts.csv', header=True, index=False, columns=list(comments_df.axes[1]))"
   ]
  },
  {
   "cell_type": "code",
   "execution_count": 24,
   "id": "768b224e",
   "metadata": {},
   "outputs": [
    {
     "data": {
      "image/png": "[encoded data removed]",
      "text/plain": [
       "<Figure size 640x480 with 1 Axes>"
      ]
     },
     "metadata": {},
     "output_type": "display_data"
    }
   ],
   "source": [
    "# take times, graph submissions posted during those times\n",
    "times = comments_df.loc[:, \"updated_utc\"]\n",
    "time_display_form = comments_df.loc[:, \"utc_datetime_str\"]\n",
    "metric = \"controversiality\"\n",
    "data = comments_df.loc[:, metric]\n",
    "\n",
    "plt.figure(\"Graph of \"+metric+\" vs time\")\n",
    "plt.plot(times, data, \"x\")\n",
    "plt.ylabel(\"Upvote Ratio\")\n",
    "plt.xlabel(\"Time (utc)\")\n",
    "plt.title(\"Graph of \"+metric+\" vs time\")\n",
    "plt.show()"
   ]
  },
  {
   "cell_type": "code",
   "execution_count": 51,
   "id": "7bfbe983",
   "metadata": {},
   "outputs": [
    {
     "data": {
      "image/png": "[encoded data removed]",
      "text/plain": [
       "<Figure size 640x480 with 1 Axes>"
      ]
     },
     "metadata": {},
     "output_type": "display_data"
    }
   ],
   "source": [
    "# plot activity over multiple days\n",
    "dates = [time_display_form[len(time_display_form) - i -1][:10] for i in range(len(time_display_form))]\n",
    "plt.hist(dates, bins=\"auto\")\n",
    "plt.show()\n",
    "\n",
    "# print(time_display_form[0][10:13])"
   ]
  },
  {
   "cell_type": "code",
   "execution_count": 49,
   "id": "248f6dae",
   "metadata": {},
   "outputs": [
    {
     "data": {
      "image/png": "[encoded data removed]",
      "text/plain": [
       "<Figure size 640x480 with 1 Axes>"
      ]
     },
     "metadata": {},
     "output_type": "display_data"
    }
   ],
   "source": [
    "# plot post activity over a day\n",
    "hour_time = [time_display_form[len(time_display_form) - i -1][10:13] for i in range(len(time_display_form))] # get only hour from timestamp\n",
    "plt.hist(hour_time, bins=\"auto\") # display histogram of data\n",
    "plt.show()"
   ]
  }
 ],
 "metadata": {
  "kernelspec": {
   "display_name": "Python 3",
   "language": "python",
   "name": "python3"
  },
  "language_info": {
   "codemirror_mode": {
    "name": "ipython",
    "version": 3
   },
   "file_extension": ".py",
   "mimetype": "text/x-python",
   "name": "python",
   "nbconvert_exporter": "python",
   "pygments_lexer": "ipython3",
   "version": "3.9.13"
  },
  "vscode": {
   "interpreter": {
    "hash": "d28fe41afa6a1422275b1884749c9d6a5baf0aa44b21c06d25073f2d14d7757c"
   }
  }
 },
 "nbformat": 4,
 "nbformat_minor": 5
}
